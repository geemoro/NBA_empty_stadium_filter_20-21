{
 "cells": [
  {
   "cell_type": "code",
   "execution_count": null,
   "metadata": {},
   "outputs": [],
   "source": [
    "# import pandas as pd\n",
    "\n",
    "warriors = pd.read_csv(\"sportsref_download-warriors.xls.csv\")\n",
    "warriors['game_day'] = pd.to_datetime(warriors['Date'], format='%m/%d/%Y')\n",
    "home_games = warriors[(warriors['Unnamed: 3'] != \"@\")]\n",
    "aw_games = warriors[(warriors['Unnamed: 3'] == \"@\")]\n",
    "away_games = aw_games[\\\n",
    "    ((aw_games['Opp']== \"BRK\") & (aw_games['game_day'] < \"02/23/2021\"))| \\\n",
    "    ((aw_games['Opp']== \"ATL\") & (aw_games['game_day'] < \"01/26/2021\")) |\\\n",
    "    ((aw_games['Opp']== \"BOS\") & (aw_games['game_day'] < \"03/22/2021\")) |\\\n",
    "    ((aw_games['Opp']== \"CHO\") & (aw_games['game_day'] < \"03/26/2021\")) |\\\n",
    "    ((aw_games['Opp']== \"CLE\") & (aw_games['game_day'] < \"01/11/2021\")) |\\\n",
    "    ((aw_games['Opp']== \"CHI\") & (aw_games['game_day' ]< \"04/02/2021\")) |\\\n",
    "    ((aw_games['Opp']== \"DAL\") & (aw_games['game_day' ]< \"02/08/2021\")) |\\\n",
    "    ((aw_games['Opp']== \"DEN\") & (aw_games['game_day' ]< \"04/02/2021\")) |\\\n",
    "    ((aw_games['Opp']== \"DET\") & (aw_games['game_day' ]< \"03/17/2021\")) |\\\n",
    "    ((aw_games['Opp']== \"GSW\") & (aw_games['game_day' ]< \"04/23/2021\")) |\\\n",
    "    ((aw_games['Opp']== \"HOU\") & (aw_games['game_day' ]< \"12/23/2021\")) |\\\n",
    "    ((aw_games['Opp']== \"IND\") & (aw_games['game_day' ]< \"01/24/2021\")) |\\\n",
    "    ((aw_games['Opp']== \"LAC\") & (aw_games['game_day' ]< \"04/18/2021\")) |\\\n",
    "    ((aw_games['Opp']== \"LAL\") & (aw_games['game_day' ]< \"04/15/2021\")) |\\\n",
    "    ((aw_games['Opp']== \"MEM\") & (aw_games['game_day' ]< \"01/16/2021\")) |\\\n",
    "    ((aw_games['Opp']== \"MIA\") & (aw_games['game_day' ]< \"01/24/2021\")) |\\\n",
    "    ((aw_games['Opp']== \"MIL\") & (aw_games['game_day' ]< \"02/21/2021\")) |\\\n",
    "    ((aw_games['Opp']== \"MIN\") & (aw_games['game_day' ]< \"04/05/2021\")) |\\\n",
    "    ((aw_games['Opp']== \"NOP\") & (aw_games['game_day' ]< \"12/23/2021\")) |\\\n",
    "    ((aw_games['Opp']== \"NYK\") & (aw_games['game_day' ]< \"02/23/2021\")) |\\\n",
    "    ((aw_games['Opp']== \"OKC\") & (aw_games['game_day' ]< \"05/26/2021\")) |\\\n",
    "    ((aw_games['Opp']== \"ORL\") & (aw_games['game_day' ]< \"12/23/2020\")) |\\\n",
    "    ((aw_games['Opp']== \"PHI\") & (aw_games['game_day' ]< \"03/14/2021\")) |\\\n",
    "    ((aw_games['Opp']== \"PHO\") & (aw_games['game_day' ]< \"02/04/2021\")) |\\\n",
    "    ((aw_games['Opp']== \"POR\") & (aw_games['game_day' ]< \"05/26/2021\")) |\\\n",
    "    ((aw_games['Opp']== \"SAC\") & (aw_games['game_day' ]< \"04/21/2021\")) |\\\n",
    "    ((aw_games['Opp']== \"SAS\") & (aw_games['game_day' ]< \"03/12/2021\")) |\\\n",
    "    ((aw_games['Opp']== \"TOR\") & (aw_games['game_day' ]< \"03/19/2021\")) |\\\n",
    "    ((aw_games['Opp']== \"UTA\") & (aw_games['game_day' ]< \"12/23/2020\")) |\\\n",
    "    ((aw_games['Opp']== \"WAS\") & (aw_games['game_day' ]< \"04/21/2021\")) ]    "
   ]
  }
 ],
 "metadata": {
  "kernelspec": {
   "display_name": "Python 3",
   "language": "python",
   "name": "python3"
  },
  "language_info": {
   "codemirror_mode": {
    "name": "ipython",
    "version": 3
   },
   "file_extension": ".py",
   "mimetype": "text/x-python",
   "name": "python",
   "nbconvert_exporter": "python",
   "pygments_lexer": "ipython3",
   "version": "3.8.5"
  }
 },
 "nbformat": 4,
 "nbformat_minor": 4
}
